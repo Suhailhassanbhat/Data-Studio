{
 "cells": [
  {
   "cell_type": "code",
   "execution_count": 24,
   "metadata": {},
   "outputs": [],
   "source": [
    "import pandas as pd\n",
    "import matplotlib\n",
    "import matplotlib.pyplot as plt\n",
    "import seaborn as sns\n",
    "matplotlib.rcParams['pdf.fonttype'] = 42\n",
    "from bs4 import BeautifulSoup\n",
    "import numpy as np\n",
    "import seaborn as sns\n",
    "import re\n",
    "%matplotlib inline\n",
    "import requests\n",
    "from datetime import datetime"
   ]
  },
  {
   "cell_type": "code",
   "execution_count": 109,
   "metadata": {},
   "outputs": [
    {
     "data": {
      "text/plain": [
       "(11898, 8)"
      ]
     },
     "execution_count": 109,
     "metadata": {},
     "output_type": "execute_result"
    }
   ],
   "source": [
    "df = pd.read_excel(\"border_condensed.xlsx\")\n",
    "df.shape"
   ]
  },
  {
   "cell_type": "code",
   "execution_count": 110,
   "metadata": {},
   "outputs": [
    {
     "data": {
      "text/plain": [
       "Port Name            object\n",
       "State                object\n",
       "Port Code             int64\n",
       "Border               object\n",
       "Date         datetime64[ns]\n",
       "Measure              object\n",
       "Value                 int64\n",
       "Location             object\n",
       "dtype: object"
      ]
     },
     "execution_count": 110,
     "metadata": {},
     "output_type": "execute_result"
    }
   ],
   "source": [
    "df.dtypes"
   ]
  },
  {
   "cell_type": "code",
   "execution_count": 27,
   "metadata": {},
   "outputs": [
    {
     "data": {
      "text/plain": [
       "(11898, 8)"
      ]
     },
     "execution_count": 27,
     "metadata": {},
     "output_type": "execute_result"
    }
   ],
   "source": [
    "df.shape"
   ]
  },
  {
   "cell_type": "code",
   "execution_count": 37,
   "metadata": {},
   "outputs": [
    {
     "data": {
      "text/plain": [
       "Port Name            object\n",
       "State                object\n",
       "Port Code             int64\n",
       "Border               object\n",
       "Date         datetime64[ns]\n",
       "Measure              object\n",
       "Value                 int64\n",
       "Location             object\n",
       "dtype: object"
      ]
     },
     "execution_count": 37,
     "metadata": {},
     "output_type": "execute_result"
    }
   ],
   "source": [
    "df.dtypes"
   ]
  },
  {
   "cell_type": "code",
   "execution_count": 43,
   "metadata": {},
   "outputs": [
    {
     "data": {
      "text/html": [
       "<div>\n",
       "<style scoped>\n",
       "    .dataframe tbody tr th:only-of-type {\n",
       "        vertical-align: middle;\n",
       "    }\n",
       "\n",
       "    .dataframe tbody tr th {\n",
       "        vertical-align: top;\n",
       "    }\n",
       "\n",
       "    .dataframe thead th {\n",
       "        text-align: right;\n",
       "    }\n",
       "</style>\n",
       "<table border=\"1\" class=\"dataframe\">\n",
       "  <thead>\n",
       "    <tr style=\"text-align: right;\">\n",
       "      <th></th>\n",
       "      <th>Port Name</th>\n",
       "      <th>State</th>\n",
       "      <th>Port Code</th>\n",
       "      <th>Border</th>\n",
       "      <th>Date</th>\n",
       "      <th>Measure</th>\n",
       "      <th>Value</th>\n",
       "      <th>Location</th>\n",
       "      <th>year</th>\n",
       "      <th>month</th>\n",
       "    </tr>\n",
       "  </thead>\n",
       "  <tbody>\n",
       "    <tr>\n",
       "      <th>0</th>\n",
       "      <td>Derby Line</td>\n",
       "      <td>Vermont</td>\n",
       "      <td>209</td>\n",
       "      <td>US-Canada Border</td>\n",
       "      <td>2019-03-01</td>\n",
       "      <td>Truck Containers Full</td>\n",
       "      <td>6483</td>\n",
       "      <td>POINT (-72.09944 45.005)</td>\n",
       "      <td>2019</td>\n",
       "      <td>3</td>\n",
       "    </tr>\n",
       "    <tr>\n",
       "      <th>1</th>\n",
       "      <td>Norton</td>\n",
       "      <td>Vermont</td>\n",
       "      <td>211</td>\n",
       "      <td>US-Canada Border</td>\n",
       "      <td>2019-03-01</td>\n",
       "      <td>Trains</td>\n",
       "      <td>19</td>\n",
       "      <td>POINT (-71.79528000000002 45.01)</td>\n",
       "      <td>2019</td>\n",
       "      <td>3</td>\n",
       "    </tr>\n",
       "    <tr>\n",
       "      <th>2</th>\n",
       "      <td>Point Roberts</td>\n",
       "      <td>Washington</td>\n",
       "      <td>3017</td>\n",
       "      <td>US-Canada Border</td>\n",
       "      <td>2019-03-01</td>\n",
       "      <td>Truck Containers Empty</td>\n",
       "      <td>718</td>\n",
       "      <td>POINT (-123.07994 48.96978)</td>\n",
       "      <td>2019</td>\n",
       "      <td>3</td>\n",
       "    </tr>\n",
       "    <tr>\n",
       "      <th>3</th>\n",
       "      <td>Calexico</td>\n",
       "      <td>California</td>\n",
       "      <td>2503</td>\n",
       "      <td>US-Mexico Border</td>\n",
       "      <td>2019-03-01</td>\n",
       "      <td>Pedestrians</td>\n",
       "      <td>346158</td>\n",
       "      <td>POINT (-115.49806000000001 32.67889)</td>\n",
       "      <td>2019</td>\n",
       "      <td>3</td>\n",
       "    </tr>\n",
       "    <tr>\n",
       "      <th>4</th>\n",
       "      <td>Fort Kent</td>\n",
       "      <td>Maine</td>\n",
       "      <td>110</td>\n",
       "      <td>US-Canada Border</td>\n",
       "      <td>2019-03-01</td>\n",
       "      <td>Pedestrians</td>\n",
       "      <td>65</td>\n",
       "      <td>POINT (-68.58458 47.26878)</td>\n",
       "      <td>2019</td>\n",
       "      <td>3</td>\n",
       "    </tr>\n",
       "  </tbody>\n",
       "</table>\n",
       "</div>"
      ],
      "text/plain": [
       "       Port Name       State  Port Code            Border       Date  \\\n",
       "0     Derby Line     Vermont        209  US-Canada Border 2019-03-01   \n",
       "1         Norton     Vermont        211  US-Canada Border 2019-03-01   \n",
       "2  Point Roberts  Washington       3017  US-Canada Border 2019-03-01   \n",
       "3       Calexico  California       2503  US-Mexico Border 2019-03-01   \n",
       "4      Fort Kent       Maine        110  US-Canada Border 2019-03-01   \n",
       "\n",
       "                  Measure   Value                              Location  year  \\\n",
       "0   Truck Containers Full    6483              POINT (-72.09944 45.005)  2019   \n",
       "1                  Trains      19      POINT (-71.79528000000002 45.01)  2019   \n",
       "2  Truck Containers Empty     718           POINT (-123.07994 48.96978)  2019   \n",
       "3             Pedestrians  346158  POINT (-115.49806000000001 32.67889)  2019   \n",
       "4             Pedestrians      65            POINT (-68.58458 47.26878)  2019   \n",
       "\n",
       "   month  \n",
       "0      3  \n",
       "1      3  \n",
       "2      3  \n",
       "3      3  \n",
       "4      3  "
      ]
     },
     "execution_count": 43,
     "metadata": {},
     "output_type": "execute_result"
    }
   ],
   "source": [
    "df['year'] = df['Date'].dt.year\n",
    "df['month'] = df['Date'].dt.month\n",
    "df.head()"
   ]
  },
  {
   "cell_type": "code",
   "execution_count": 77,
   "metadata": {},
   "outputs": [],
   "source": [
    "df['date'] = [''.join(i) for i in zip(df[\"year\"].map(str), df[\"month\"].map(str))]\n"
   ]
  },
  {
   "cell_type": "code",
   "execution_count": 63,
   "metadata": {},
   "outputs": [
    {
     "data": {
      "text/plain": [
       "20186     823\n",
       "20185     813\n",
       "20188     810\n",
       "201810    805\n",
       "20189     804\n",
       "20187     803\n",
       "20193     796\n",
       "201811    790\n",
       "20192     790\n",
       "20184     784\n",
       "20182     781\n",
       "20191     778\n",
       "20183     777\n",
       "20181     776\n",
       "201812    768\n",
       "Name: date, dtype: int64"
      ]
     },
     "execution_count": 63,
     "metadata": {},
     "output_type": "execute_result"
    }
   ],
   "source": [
    "df.date.value_counts()"
   ]
  },
  {
   "cell_type": "code",
   "execution_count": 112,
   "metadata": {},
   "outputs": [
    {
     "data": {
      "text/html": [
       "<div>\n",
       "<style scoped>\n",
       "    .dataframe tbody tr th:only-of-type {\n",
       "        vertical-align: middle;\n",
       "    }\n",
       "\n",
       "    .dataframe tbody tr th {\n",
       "        vertical-align: top;\n",
       "    }\n",
       "\n",
       "    .dataframe thead th {\n",
       "        text-align: right;\n",
       "    }\n",
       "</style>\n",
       "<table border=\"1\" class=\"dataframe\">\n",
       "  <thead>\n",
       "    <tr style=\"text-align: right;\">\n",
       "      <th></th>\n",
       "      <th>Unnamed: 0</th>\n",
       "      <th>Port Name</th>\n",
       "      <th>State</th>\n",
       "      <th>Port Code</th>\n",
       "      <th>Border</th>\n",
       "      <th>Date</th>\n",
       "      <th>Measure</th>\n",
       "      <th>Value</th>\n",
       "      <th>Location</th>\n",
       "      <th>year</th>\n",
       "      <th>month</th>\n",
       "      <th>date</th>\n",
       "    </tr>\n",
       "  </thead>\n",
       "  <tbody>\n",
       "    <tr>\n",
       "      <th>0</th>\n",
       "      <td>0</td>\n",
       "      <td>Derby Line</td>\n",
       "      <td>Vermont</td>\n",
       "      <td>209</td>\n",
       "      <td>US-Canada Border</td>\n",
       "      <td>2019-03-01</td>\n",
       "      <td>Truck Containers Full</td>\n",
       "      <td>6483</td>\n",
       "      <td>POINT (-72.09944 45.005)</td>\n",
       "      <td>2019</td>\n",
       "      <td>3</td>\n",
       "      <td>2019-3</td>\n",
       "    </tr>\n",
       "    <tr>\n",
       "      <th>1</th>\n",
       "      <td>1</td>\n",
       "      <td>Norton</td>\n",
       "      <td>Vermont</td>\n",
       "      <td>211</td>\n",
       "      <td>US-Canada Border</td>\n",
       "      <td>2019-03-01</td>\n",
       "      <td>Trains</td>\n",
       "      <td>19</td>\n",
       "      <td>POINT (-71.79528000000002 45.01)</td>\n",
       "      <td>2019</td>\n",
       "      <td>3</td>\n",
       "      <td>2019-3</td>\n",
       "    </tr>\n",
       "    <tr>\n",
       "      <th>2</th>\n",
       "      <td>2</td>\n",
       "      <td>Point Roberts</td>\n",
       "      <td>Washington</td>\n",
       "      <td>3017</td>\n",
       "      <td>US-Canada Border</td>\n",
       "      <td>2019-03-01</td>\n",
       "      <td>Truck Containers Empty</td>\n",
       "      <td>718</td>\n",
       "      <td>POINT (-123.07994 48.96978)</td>\n",
       "      <td>2019</td>\n",
       "      <td>3</td>\n",
       "      <td>2019-3</td>\n",
       "    </tr>\n",
       "    <tr>\n",
       "      <th>3</th>\n",
       "      <td>3</td>\n",
       "      <td>Calexico</td>\n",
       "      <td>California</td>\n",
       "      <td>2503</td>\n",
       "      <td>US-Mexico Border</td>\n",
       "      <td>2019-03-01</td>\n",
       "      <td>Pedestrians</td>\n",
       "      <td>346158</td>\n",
       "      <td>POINT (-115.49806000000001 32.67889)</td>\n",
       "      <td>2019</td>\n",
       "      <td>3</td>\n",
       "      <td>2019-3</td>\n",
       "    </tr>\n",
       "    <tr>\n",
       "      <th>4</th>\n",
       "      <td>4</td>\n",
       "      <td>Fort Kent</td>\n",
       "      <td>Maine</td>\n",
       "      <td>110</td>\n",
       "      <td>US-Canada Border</td>\n",
       "      <td>2019-03-01</td>\n",
       "      <td>Pedestrians</td>\n",
       "      <td>65</td>\n",
       "      <td>POINT (-68.58458 47.26878)</td>\n",
       "      <td>2019</td>\n",
       "      <td>3</td>\n",
       "      <td>2019-3</td>\n",
       "    </tr>\n",
       "  </tbody>\n",
       "</table>\n",
       "</div>"
      ],
      "text/plain": [
       "   Unnamed: 0      Port Name       State  Port Code            Border  \\\n",
       "0           0     Derby Line     Vermont        209  US-Canada Border   \n",
       "1           1         Norton     Vermont        211  US-Canada Border   \n",
       "2           2  Point Roberts  Washington       3017  US-Canada Border   \n",
       "3           3       Calexico  California       2503  US-Mexico Border   \n",
       "4           4      Fort Kent       Maine        110  US-Canada Border   \n",
       "\n",
       "         Date                 Measure   Value  \\\n",
       "0  2019-03-01   Truck Containers Full    6483   \n",
       "1  2019-03-01                  Trains      19   \n",
       "2  2019-03-01  Truck Containers Empty     718   \n",
       "3  2019-03-01             Pedestrians  346158   \n",
       "4  2019-03-01             Pedestrians      65   \n",
       "\n",
       "                               Location  year  month    date  \n",
       "0              POINT (-72.09944 45.005)  2019      3  2019-3  \n",
       "1      POINT (-71.79528000000002 45.01)  2019      3  2019-3  \n",
       "2           POINT (-123.07994 48.96978)  2019      3  2019-3  \n",
       "3  POINT (-115.49806000000001 32.67889)  2019      3  2019-3  \n",
       "4            POINT (-68.58458 47.26878)  2019      3  2019-3  "
      ]
     },
     "execution_count": 112,
     "metadata": {},
     "output_type": "execute_result"
    }
   ],
   "source": [
    "df = pd.read_csv(\"border_crossing.csv\")\n",
    "df.head()"
   ]
  },
  {
   "cell_type": "code",
   "execution_count": 116,
   "metadata": {},
   "outputs": [
    {
     "data": {
      "text/plain": [
       "Unnamed: 0             int64\n",
       "Port Name             object\n",
       "State                 object\n",
       "Port Code              int64\n",
       "Border                object\n",
       "Date                  object\n",
       "Measure               object\n",
       "Value                 object\n",
       "Location              object\n",
       "year                   int64\n",
       "month                  int64\n",
       "date          datetime64[ns]\n",
       "dtype: object"
      ]
     },
     "execution_count": 116,
     "metadata": {},
     "output_type": "execute_result"
    }
   ],
   "source": [
    "df['date']= pd.to_datetime(df['date']) \n",
    "df.dtypes"
   ]
  },
  {
   "cell_type": "code",
   "execution_count": 127,
   "metadata": {},
   "outputs": [
    {
     "data": {
      "image/png": "[encoded data removed]",
      "text/plain": [
       "<Figure size 1080x576 with 1 Axes>"
      ]
     },
     "metadata": {
      "needs_background": "light"
     },
     "output_type": "display_data"
    }
   ],
   "source": [
    "df['date'].groupby([df.date.dt.year, df.date.dt.month]).agg('count').plot(figsize=(15,8), color='blue')\n",
    "plt.savefig(\"border_1.pdf\")"
   ]
  },
  {
   "cell_type": "code",
   "execution_count": 100,
   "metadata": {},
   "outputs": [],
   "source": [
    "# df.groupby(by='date').Value.sum().plot(figsize=(15,8), color='blue')\n"
   ]
  },
  {
   "cell_type": "code",
   "execution_count": 128,
   "metadata": {},
   "outputs": [
    {
     "data": {
      "text/plain": [
       "date  date\n",
       "2018  1       776\n",
       "      2       781\n",
       "      3       777\n",
       "      4       784\n",
       "      5       813\n",
       "      6       823\n",
       "      7       803\n",
       "      8       810\n",
       "      9       804\n",
       "      10      805\n",
       "      11      790\n",
       "      12      768\n",
       "2019  1       778\n",
       "      2       790\n",
       "      3       796\n",
       "Name: date, dtype: int64"
      ]
     },
     "execution_count": 128,
     "metadata": {},
     "output_type": "execute_result"
    }
   ],
   "source": [
    "df['date'].groupby([df.date.dt.year, df.date.dt.month]).agg('count')"
   ]
  },
  {
   "cell_type": "code",
   "execution_count": null,
   "metadata": {},
   "outputs": [],
   "source": []
  }
 ],
 "metadata": {
  "kernelspec": {
   "display_name": "Python 3",
   "language": "python",
   "name": "python3"
  },
  "language_info": {
   "codemirror_mode": {
    "name": "ipython",
    "version": 3
   },
   "file_extension": ".py",
   "mimetype": "text/x-python",
   "name": "python",
   "nbconvert_exporter": "python",
   "pygments_lexer": "ipython3",
   "version": "3.7.3"
  }
 },
 "nbformat": 4,
 "nbformat_minor": 2
}
